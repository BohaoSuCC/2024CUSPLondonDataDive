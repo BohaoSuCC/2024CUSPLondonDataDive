{
 "cells": [
  {
   "cell_type": "code",
   "execution_count": 1,
   "metadata": {},
   "outputs": [],
   "source": [
    "import requests\n",
    "import xml.etree.ElementTree as ET\n",
    "\n",
    "from io import StringIO\n",
    "\n",
    "from LoadingData import LoadFromAPI\n",
    "import os\n",
    "import pandas as pd\n",
    "import numpy as np"
   ]
  },
  {
   "cell_type": "markdown",
   "metadata": {},
   "source": [
    "## Air Quality API: 空气质量接口：\n",
    "\n",
    "help网页： [https://api.erg.ic.ac.uk/AirQuality/help](https://api.erg.ic.ac.uk/AirQuality/help)"
   ]
  },
  {
   "cell_type": "markdown",
   "metadata": {},
   "source": [
    "### Air Quality - MonitoringLocalAuthority"
   ]
  },
  {
   "cell_type": "code",
   "execution_count": 48,
   "metadata": {},
   "outputs": [
    {
     "name": "stdout",
     "output_type": "stream",
     "text": [
      "Data saved to Data/AirQuality/MonitoringLocalAuthority.xml.\n"
     ]
    }
   ],
   "source": [
    "LoadFromAPI.load_data_from_api(url='https://api.erg.ic.ac.uk/AirQuality/Information/MonitoringLocalAuthority/GroupName=London', data_format=\"xml\", filename=\"Data/AirQuality/MonitoringLocalAuthority.xml\")"
   ]
  },
  {
   "cell_type": "markdown",
   "metadata": {},
   "source": [
    "### Air Quality - MonitoringSites Metadata"
   ]
  },
  {
   "cell_type": "code",
   "execution_count": 51,
   "metadata": {},
   "outputs": [
    {
     "name": "stdout",
     "output_type": "stream",
     "text": [
      "Data saved to Data/AirQuality/MonitoringSites.xml.\n"
     ]
    }
   ],
   "source": [
    "LoadFromAPI.load_data_from_api(url='http://api.erg.ic.ac.uk/AirQuality/Information/MonitoringSites/GroupName=London', data_format=\"xml\", filename=\"Data/AirQuality/MonitoringSites.xml\")"
   ]
  },
  {
   "cell_type": "markdown",
   "metadata": {},
   "source": [
    "### Air Quality - Species Meta Data"
   ]
  },
  {
   "cell_type": "code",
   "execution_count": 54,
   "metadata": {},
   "outputs": [
    {
     "name": "stdout",
     "output_type": "stream",
     "text": [
      "Data saved to Data/AirQuality/MonitoringSiteSpecies.xml.\n"
     ]
    }
   ],
   "source": [
    "LoadFromAPI.load_data_from_api(url='https://api.erg.ic.ac.uk/AirQuality/Information/MonitoringSiteSpecies/GroupName=London', data_format=\"xml\", filename=\"Data/AirQuality/MonitoringSiteSpecies.xml\")"
   ]
  },
  {
   "cell_type": "markdown",
   "metadata": {},
   "source": [
    "### Air Quality - Download Data for everySite/Species"
   ]
  },
  {
   "cell_type": "markdown",
   "metadata": {},
   "source": [
    "get the specific species information of specific site during some period fromdate to enddate from the API"
   ]
  },
  {
   "cell_type": "markdown",
   "metadata": {},
   "source": [
    "This returns raw data based on 'SiteCode', 'Species', 'StartDate', 'EndDate'. Default time period is 'hourly'. Data returned in CSV format\n",
    "\n",
    "\"https://api.erg.ic.ac.uk/AirQuality/Data/SiteSpecies/SiteCode={SITECODE}/SpeciesCode={SpeciesCode}/StartDate={STARTDATE}/EndDate={ENDDATE}/csv\""
   ]
  },
  {
   "cell_type": "code",
   "execution_count": 4,
   "metadata": {},
   "outputs": [],
   "source": [
    "# Let's check the site/species data for determin which site remained open in the specific time period(from 2017-12-16 to 2018-03-17 matching the congestion data)\n",
    "\n",
    "# Load the data\n",
    "\n",
    "SiteSpecies = pd.read_csv(\"Data/AirQuality/MonitoringSiteSpecies.csv\")"
   ]
  },
  {
   "cell_type": "markdown",
   "metadata": {},
   "source": [
    "#### Download the NO2 data of the site in the time period from 2017-12-16 to 2018-03-17"
   ]
  },
  {
   "cell_type": "code",
   "execution_count": 43,
   "metadata": {},
   "outputs": [
    {
     "name": "stdout",
     "output_type": "stream",
     "text": [
      "['BG1' 'BG2' 'BX2' 'BQ7' 'BX1' 'BT8' 'BT4' 'BT6' 'BT5' 'BY7' 'BL0' 'CD9'\n",
      " 'IM1' 'CD1' 'CT4' 'CT3' 'CT6' 'CR5' 'CR9' 'CR7' 'EA6' 'EA8' 'EI1' 'EN5'\n",
      " 'EN1' 'EN4' 'EN7' 'GN0' 'GR7' 'GR4' 'GB6' 'GN4' 'GN3' 'GN5' 'GR9' 'GR8'\n",
      " 'HK6' 'HG4' 'HG1' 'HG1' 'HR2' 'HR1' 'HV1' 'HV3' 'LH0' 'HI0' 'IS6' 'IS2'\n",
      " 'KC1' 'KT4' 'LB5' 'LB4' 'LB6' 'LW1' 'LW4' 'LW2' 'ME9' 'NM2' 'NM3' 'RB4'\n",
      " 'RB7' 'RI2' 'RI1' 'RHG' 'SK5' 'SK6' 'ST8' 'ST5' 'ST4' 'ST6' 'TH4' 'TH2'\n",
      " 'WAA' 'WAC' 'WA9' 'WA7' 'WA8' 'WAB' 'WA2' 'WM5' 'WM0' 'MY1' 'WM6' 'NB1']\n"
     ]
    },
    {
     "name": "stderr",
     "output_type": "stream",
     "text": [
      "C:\\Users\\SBH\\AppData\\Local\\Temp\\ipykernel_14628\\721178617.py:3: SettingWithCopyWarning: \n",
      "A value is trying to be set on a copy of a slice from a DataFrame.\n",
      "Try using .loc[row_indexer,col_indexer] = value instead\n",
      "\n",
      "See the caveats in the documentation: https://pandas.pydata.org/pandas-docs/stable/user_guide/indexing.html#returning-a-view-versus-a-copy\n",
      "  Sites_NO2['DateMeasurementFinished'] = pd.to_datetime(Sites_NO2['DateMeasurementFinished'], errors='coerce')\n",
      "C:\\Users\\SBH\\AppData\\Local\\Temp\\ipykernel_14628\\721178617.py:4: SettingWithCopyWarning: \n",
      "A value is trying to be set on a copy of a slice from a DataFrame.\n",
      "Try using .loc[row_indexer,col_indexer] = value instead\n",
      "\n",
      "See the caveats in the documentation: https://pandas.pydata.org/pandas-docs/stable/user_guide/indexing.html#returning-a-view-versus-a-copy\n",
      "  Sites_NO2['DateMeasurementStarted'] = pd.to_datetime(Sites_NO2['DateMeasurementStarted'], errors='coerce')\n"
     ]
    }
   ],
   "source": [
    "Sites_NO2 = SiteSpecies[SiteSpecies['SpeciesCode'] == 'NO2']\n",
    "\n",
    "Sites_NO2['DateMeasurementFinished'] = pd.to_datetime(Sites_NO2['DateMeasurementFinished'], errors='coerce')\n",
    "Sites_NO2['DateMeasurementStarted'] = pd.to_datetime(Sites_NO2['DateMeasurementStarted'], errors='coerce')\n",
    "\n",
    "# set some conditions for filtering\n",
    "# condition1: 'DateClosed' is NAN or later than'2017-12-16 00:00'\n",
    "# condition2: 'DateOpened' is earlier than '2018-03-17 00:00'\n",
    "condition = (Sites_NO2['DateMeasurementFinished'].isna() | (Sites_NO2['DateMeasurementFinished'] > pd.Timestamp('2018-03-17 00:00'))) & (Sites_NO2['DateMeasurementStarted'] < pd.Timestamp('2017-12-16 00:00'))\n",
    "\n",
    "# apply the filter condition to the dataframe\n",
    "filtered_Sites_NO2 = Sites_NO2[condition]\n",
    "\n",
    "# get the site codes for further downloading the data\n",
    "Sites_Codes_NO2 = filtered_Sites_NO2['SiteCode'].values\n",
    "print(Sites_Codes_NO2)"
   ]
  },
  {
   "cell_type": "code",
   "execution_count": 44,
   "metadata": {},
   "outputs": [
    {
     "name": "stdout",
     "output_type": "stream",
     "text": [
      "Data saved to Data/AirQuality/NO2/BG1.csv.\n",
      "Data saved to Data/AirQuality/NO2/BG2.csv.\n",
      "Data saved to Data/AirQuality/NO2/BX2.csv.\n",
      "Data saved to Data/AirQuality/NO2/BQ7.csv.\n",
      "Data saved to Data/AirQuality/NO2/BX1.csv.\n",
      "Data saved to Data/AirQuality/NO2/BT8.csv.\n",
      "Data saved to Data/AirQuality/NO2/BT4.csv.\n",
      "Data saved to Data/AirQuality/NO2/BT6.csv.\n",
      "Data saved to Data/AirQuality/NO2/BT5.csv.\n",
      "Data saved to Data/AirQuality/NO2/BY7.csv.\n",
      "Data saved to Data/AirQuality/NO2/BL0.csv.\n",
      "Data saved to Data/AirQuality/NO2/CD9.csv.\n",
      "Data saved to Data/AirQuality/NO2/IM1.csv.\n",
      "Data saved to Data/AirQuality/NO2/CD1.csv.\n",
      "Data saved to Data/AirQuality/NO2/CT4.csv.\n",
      "Data saved to Data/AirQuality/NO2/CT3.csv.\n",
      "Data saved to Data/AirQuality/NO2/CT6.csv.\n",
      "Data saved to Data/AirQuality/NO2/CR5.csv.\n",
      "Data saved to Data/AirQuality/NO2/CR9.csv.\n",
      "Data saved to Data/AirQuality/NO2/CR7.csv.\n",
      "Data saved to Data/AirQuality/NO2/EA6.csv.\n",
      "Data saved to Data/AirQuality/NO2/EA8.csv.\n",
      "Data saved to Data/AirQuality/NO2/EI1.csv.\n",
      "Data saved to Data/AirQuality/NO2/EN5.csv.\n",
      "Data saved to Data/AirQuality/NO2/EN1.csv.\n",
      "Data saved to Data/AirQuality/NO2/EN4.csv.\n",
      "Data saved to Data/AirQuality/NO2/EN7.csv.\n",
      "Data saved to Data/AirQuality/NO2/GN0.csv.\n",
      "Data saved to Data/AirQuality/NO2/GR7.csv.\n",
      "Data saved to Data/AirQuality/NO2/GR4.csv.\n",
      "Data saved to Data/AirQuality/NO2/GB6.csv.\n",
      "Data saved to Data/AirQuality/NO2/GN4.csv.\n",
      "Data saved to Data/AirQuality/NO2/GN3.csv.\n",
      "Data saved to Data/AirQuality/NO2/GN5.csv.\n",
      "Data saved to Data/AirQuality/NO2/GR9.csv.\n",
      "Data saved to Data/AirQuality/NO2/GR8.csv.\n",
      "Data saved to Data/AirQuality/NO2/HK6.csv.\n",
      "Data saved to Data/AirQuality/NO2/HG4.csv.\n",
      "Data saved to Data/AirQuality/NO2/HG1.csv.\n",
      "Data saved to Data/AirQuality/NO2/HG1.csv.\n",
      "Data saved to Data/AirQuality/NO2/HR2.csv.\n",
      "Data saved to Data/AirQuality/NO2/HR1.csv.\n",
      "Data saved to Data/AirQuality/NO2/HV1.csv.\n",
      "Data saved to Data/AirQuality/NO2/HV3.csv.\n",
      "Data saved to Data/AirQuality/NO2/LH0.csv.\n",
      "Data saved to Data/AirQuality/NO2/HI0.csv.\n",
      "Data saved to Data/AirQuality/NO2/IS6.csv.\n",
      "Data saved to Data/AirQuality/NO2/IS2.csv.\n",
      "Data saved to Data/AirQuality/NO2/KC1.csv.\n",
      "Data saved to Data/AirQuality/NO2/KT4.csv.\n",
      "Data saved to Data/AirQuality/NO2/LB5.csv.\n",
      "Data saved to Data/AirQuality/NO2/LB4.csv.\n",
      "Data saved to Data/AirQuality/NO2/LB6.csv.\n",
      "Data saved to Data/AirQuality/NO2/LW1.csv.\n",
      "Data saved to Data/AirQuality/NO2/LW4.csv.\n",
      "Data saved to Data/AirQuality/NO2/LW2.csv.\n",
      "Data saved to Data/AirQuality/NO2/ME9.csv.\n",
      "Data saved to Data/AirQuality/NO2/NM2.csv.\n",
      "Data saved to Data/AirQuality/NO2/NM3.csv.\n",
      "Data saved to Data/AirQuality/NO2/RB4.csv.\n",
      "Data saved to Data/AirQuality/NO2/RB7.csv.\n",
      "Data saved to Data/AirQuality/NO2/RI2.csv.\n",
      "Data saved to Data/AirQuality/NO2/RI1.csv.\n",
      "Data saved to Data/AirQuality/NO2/RHG.csv.\n",
      "Data saved to Data/AirQuality/NO2/SK5.csv.\n",
      "Data saved to Data/AirQuality/NO2/SK6.csv.\n",
      "Data saved to Data/AirQuality/NO2/ST8.csv.\n",
      "Data saved to Data/AirQuality/NO2/ST5.csv.\n",
      "Data saved to Data/AirQuality/NO2/ST4.csv.\n",
      "Data saved to Data/AirQuality/NO2/ST6.csv.\n",
      "Data saved to Data/AirQuality/NO2/TH4.csv.\n",
      "Data saved to Data/AirQuality/NO2/TH2.csv.\n",
      "Data saved to Data/AirQuality/NO2/WAA.csv.\n",
      "Data saved to Data/AirQuality/NO2/WAC.csv.\n",
      "Data saved to Data/AirQuality/NO2/WA9.csv.\n",
      "Data saved to Data/AirQuality/NO2/WA7.csv.\n",
      "Data saved to Data/AirQuality/NO2/WA8.csv.\n",
      "Data saved to Data/AirQuality/NO2/WAB.csv.\n",
      "Data saved to Data/AirQuality/NO2/WA2.csv.\n",
      "Data saved to Data/AirQuality/NO2/WM5.csv.\n",
      "Data saved to Data/AirQuality/NO2/WM0.csv.\n",
      "Data saved to Data/AirQuality/NO2/MY1.csv.\n",
      "Data saved to Data/AirQuality/NO2/WM6.csv.\n",
      "Data saved to Data/AirQuality/NO2/NB1.csv.\n"
     ]
    }
   ],
   "source": [
    "\n",
    "#dont print anything for this code chunk\n",
    "\n",
    "\n",
    "for site_code in Sites_Codes_NO2:\n",
    "\n",
    "\n",
    "    url = f\"https://api.erg.ic.ac.uk/AirQuality/Data/SiteSpecies/SiteCode={site_code}/SpeciesCode=NO2/StartDate=17 Dec 2017/EndDate=17 Mar 2018/csv\"\n",
    "    filename = f\"Data/AirQuality/NO2/{site_code}.csv\"\n",
    "\n",
    "    LoadFromAPI.load_data_from_api(url=url,data_format=\"csv\", filename=filename)"
   ]
  },
  {
   "cell_type": "markdown",
   "metadata": {},
   "source": [
    "#### Download the PM2.5 data of the site in the time period from 2017-12-16 to 2018-03-17"
   ]
  },
  {
   "cell_type": "code",
   "execution_count": 45,
   "metadata": {},
   "outputs": [
    {
     "name": "stdout",
     "output_type": "stream",
     "text": [
      "['BX9' 'GB0' 'CD9' 'BL0' 'CT2' 'CT3' 'CD1' 'CR8' 'GN0' 'GR4' 'GN3' 'GR9'\n",
      " 'HV1' 'LH0' 'KF1' 'HP1' 'LW2' 'RB7' 'TD5' 'ST5' 'TH4' 'WM0' 'MY7']\n"
     ]
    },
    {
     "name": "stderr",
     "output_type": "stream",
     "text": [
      "C:\\Users\\SBH\\AppData\\Local\\Temp\\ipykernel_14628\\257181221.py:3: SettingWithCopyWarning: \n",
      "A value is trying to be set on a copy of a slice from a DataFrame.\n",
      "Try using .loc[row_indexer,col_indexer] = value instead\n",
      "\n",
      "See the caveats in the documentation: https://pandas.pydata.org/pandas-docs/stable/user_guide/indexing.html#returning-a-view-versus-a-copy\n",
      "  Sites_PM25['DateMeasurementFinished'] = pd.to_datetime(Sites_PM25['DateMeasurementFinished'], errors='coerce')\n",
      "C:\\Users\\SBH\\AppData\\Local\\Temp\\ipykernel_14628\\257181221.py:4: SettingWithCopyWarning: \n",
      "A value is trying to be set on a copy of a slice from a DataFrame.\n",
      "Try using .loc[row_indexer,col_indexer] = value instead\n",
      "\n",
      "See the caveats in the documentation: https://pandas.pydata.org/pandas-docs/stable/user_guide/indexing.html#returning-a-view-versus-a-copy\n",
      "  Sites_PM25['DateMeasurementStarted'] = pd.to_datetime(Sites_PM25['DateMeasurementStarted'], errors='coerce')\n"
     ]
    }
   ],
   "source": [
    "Sites_PM25 = SiteSpecies[SiteSpecies['SpeciesCode'] == 'PM25']\n",
    "\n",
    "Sites_PM25['DateMeasurementFinished'] = pd.to_datetime(Sites_PM25['DateMeasurementFinished'], errors='coerce')\n",
    "Sites_PM25['DateMeasurementStarted'] = pd.to_datetime(Sites_PM25['DateMeasurementStarted'], errors='coerce')\n",
    "\n",
    "# set some conditions for filtering\n",
    "# condition1: 'DateClosed' is NAN or later than'2017-12-16 00:00'\n",
    "# condition2: 'DateOpened' is earlier than '2018-03-17 00:00'\n",
    "condition = (Sites_PM25['DateMeasurementFinished'].isna() | (Sites_PM25['DateMeasurementFinished'] > pd.Timestamp('2018-03-17 00:00'))) & (Sites_PM25['DateMeasurementStarted'] < pd.Timestamp('2017-12-16 00:00'))\n",
    "\n",
    "# apply the filter condition to the dataframe\n",
    "filtered_Sites_PM25 = Sites_PM25[condition]\n",
    "\n",
    "# get the site codes for further downloading the data\n",
    "Sites_Codes_PM25 = filtered_Sites_PM25['SiteCode'].values\n",
    "print(Sites_Codes_PM25)"
   ]
  },
  {
   "cell_type": "code",
   "execution_count": 46,
   "metadata": {},
   "outputs": [
    {
     "name": "stdout",
     "output_type": "stream",
     "text": [
      "Data saved to Data/AirQuality/PM25/BX9.csv.\n",
      "Data saved to Data/AirQuality/PM25/GB0.csv.\n",
      "Data saved to Data/AirQuality/PM25/CD9.csv.\n",
      "Data saved to Data/AirQuality/PM25/BL0.csv.\n",
      "Data saved to Data/AirQuality/PM25/CT2.csv.\n",
      "Data saved to Data/AirQuality/PM25/CT3.csv.\n",
      "Data saved to Data/AirQuality/PM25/CD1.csv.\n",
      "Data saved to Data/AirQuality/PM25/CR8.csv.\n",
      "Data saved to Data/AirQuality/PM25/GN0.csv.\n",
      "Data saved to Data/AirQuality/PM25/GR4.csv.\n",
      "Data saved to Data/AirQuality/PM25/GN3.csv.\n",
      "Data saved to Data/AirQuality/PM25/GR9.csv.\n",
      "Data saved to Data/AirQuality/PM25/HV1.csv.\n",
      "Data saved to Data/AirQuality/PM25/LH0.csv.\n",
      "Data saved to Data/AirQuality/PM25/KF1.csv.\n",
      "Data saved to Data/AirQuality/PM25/HP1.csv.\n",
      "Data saved to Data/AirQuality/PM25/LW2.csv.\n",
      "Data saved to Data/AirQuality/PM25/RB7.csv.\n",
      "Data saved to Data/AirQuality/PM25/TD5.csv.\n",
      "Data saved to Data/AirQuality/PM25/ST5.csv.\n",
      "Data saved to Data/AirQuality/PM25/TH4.csv.\n",
      "Data saved to Data/AirQuality/PM25/WM0.csv.\n",
      "Data saved to Data/AirQuality/PM25/MY7.csv.\n"
     ]
    }
   ],
   "source": [
    "\n",
    "#dont print anything for this code chunk\n",
    "\n",
    "\n",
    "for site_code in Sites_Codes_PM25:\n",
    "\n",
    "\n",
    "    url = f\"https://api.erg.ic.ac.uk/AirQuality/Data/SiteSpecies/SiteCode={site_code}/SpeciesCode=PM25/StartDate=17 Dec 2017/EndDate=17 Mar 2018/csv\"\n",
    "    filename = f\"Data/AirQuality/PM25/{site_code}.csv\"\n",
    "\n",
    "    LoadFromAPI.load_data_from_api(url=url,data_format=\"csv\", filename=filename)"
   ]
  },
  {
   "cell_type": "markdown",
   "metadata": {},
   "source": [
    "#### Download the PM10 data of the site in the time period from 2017-12-16 to 2018-03-17"
   ]
  },
  {
   "cell_type": "code",
   "execution_count": 47,
   "metadata": {},
   "outputs": [
    {
     "name": "stdout",
     "output_type": "stream",
     "text": [
      "['BG2' 'BX2' 'BX0' 'BQ8' 'BX1' 'BL0' 'KX4' 'CD9' 'CD1' 'CT3' 'CR9' 'EI3'\n",
      " 'EA6' 'EA8' 'EI8' 'EI1' 'EN5' 'GN0' 'GR7' 'GR4' 'GB6' 'GN4' 'GN3' 'GN5'\n",
      " 'GR9' 'GR8' 'GR8' 'HK6' 'HR2' 'HR1' 'HV1' 'HV3' 'LH0' 'IS6' 'IS2' 'KF1'\n",
      " 'KT4' 'LB5' 'LB4' 'LB6' 'HP1' 'LW4' 'LW2' 'TD5' 'ME2' 'NM2' 'NM3' 'RB4'\n",
      " 'RB7' 'RI2' 'RI1' 'RHG' 'SK5' 'ST8' 'ST8' 'ST5' 'ST4' 'ST6' 'TH4' 'WAA'\n",
      " 'WAC' 'WA9' 'WA7' 'WAB' 'WM0' 'MY1' 'MY7' 'WM6']\n"
     ]
    },
    {
     "name": "stderr",
     "output_type": "stream",
     "text": [
      "C:\\Users\\SBH\\AppData\\Local\\Temp\\ipykernel_14628\\2054770862.py:3: SettingWithCopyWarning: \n",
      "A value is trying to be set on a copy of a slice from a DataFrame.\n",
      "Try using .loc[row_indexer,col_indexer] = value instead\n",
      "\n",
      "See the caveats in the documentation: https://pandas.pydata.org/pandas-docs/stable/user_guide/indexing.html#returning-a-view-versus-a-copy\n",
      "  Sites_PM10['DateMeasurementFinished'] = pd.to_datetime(Sites_PM10['DateMeasurementFinished'], errors='coerce')\n",
      "C:\\Users\\SBH\\AppData\\Local\\Temp\\ipykernel_14628\\2054770862.py:4: SettingWithCopyWarning: \n",
      "A value is trying to be set on a copy of a slice from a DataFrame.\n",
      "Try using .loc[row_indexer,col_indexer] = value instead\n",
      "\n",
      "See the caveats in the documentation: https://pandas.pydata.org/pandas-docs/stable/user_guide/indexing.html#returning-a-view-versus-a-copy\n",
      "  Sites_PM10['DateMeasurementStarted'] = pd.to_datetime(Sites_PM10['DateMeasurementStarted'], errors='coerce')\n"
     ]
    }
   ],
   "source": [
    "Sites_PM10 = SiteSpecies[SiteSpecies['SpeciesCode'] == 'PM10']\n",
    "\n",
    "Sites_PM10['DateMeasurementFinished'] = pd.to_datetime(Sites_PM10['DateMeasurementFinished'], errors='coerce')\n",
    "Sites_PM10['DateMeasurementStarted'] = pd.to_datetime(Sites_PM10['DateMeasurementStarted'], errors='coerce')\n",
    "\n",
    "# set some conditions for filtering\n",
    "# condition1: 'DateClosed' is NAN or later than'2017-12-16 00:00'\n",
    "# condition2: 'DateOpened' is earlier than '2018-03-17 00:00'\n",
    "condition = (Sites_PM10['DateMeasurementFinished'].isna() | (Sites_PM10['DateMeasurementFinished'] > pd.Timestamp('2018-03-17 00:00'))) & (Sites_PM10['DateMeasurementStarted'] < pd.Timestamp('2017-12-16 00:00'))\n",
    "\n",
    "# apply the filter condition to the dataframe\n",
    "filtered_Sites_PM10 = Sites_PM10[condition]\n",
    "\n",
    "# get the site codes for further downloading the data\n",
    "Sites_Codes_PM10 = filtered_Sites_PM10['SiteCode'].values\n",
    "print(Sites_Codes_PM10)"
   ]
  },
  {
   "cell_type": "code",
   "execution_count": 48,
   "metadata": {},
   "outputs": [
    {
     "name": "stdout",
     "output_type": "stream",
     "text": [
      "Data saved to Data/AirQuality/PM10/BG2.csv.\n",
      "Data saved to Data/AirQuality/PM10/BX2.csv.\n",
      "Data saved to Data/AirQuality/PM10/BX0.csv.\n",
      "Data saved to Data/AirQuality/PM10/BQ8.csv.\n",
      "Data saved to Data/AirQuality/PM10/BX1.csv.\n",
      "Data saved to Data/AirQuality/PM10/BL0.csv.\n",
      "Data saved to Data/AirQuality/PM10/KX4.csv.\n",
      "Data saved to Data/AirQuality/PM10/CD9.csv.\n",
      "Data saved to Data/AirQuality/PM10/CD1.csv.\n",
      "Data saved to Data/AirQuality/PM10/CT3.csv.\n",
      "Data saved to Data/AirQuality/PM10/CR9.csv.\n",
      "Data saved to Data/AirQuality/PM10/EI3.csv.\n",
      "Data saved to Data/AirQuality/PM10/EA6.csv.\n",
      "Data saved to Data/AirQuality/PM10/EA8.csv.\n",
      "Data saved to Data/AirQuality/PM10/EI8.csv.\n",
      "Data saved to Data/AirQuality/PM10/EI1.csv.\n",
      "Data saved to Data/AirQuality/PM10/EN5.csv.\n",
      "Data saved to Data/AirQuality/PM10/GN0.csv.\n",
      "Data saved to Data/AirQuality/PM10/GR7.csv.\n",
      "Data saved to Data/AirQuality/PM10/GR4.csv.\n",
      "Data saved to Data/AirQuality/PM10/GB6.csv.\n",
      "Data saved to Data/AirQuality/PM10/GN4.csv.\n",
      "Data saved to Data/AirQuality/PM10/GN3.csv.\n",
      "Data saved to Data/AirQuality/PM10/GN5.csv.\n",
      "Data saved to Data/AirQuality/PM10/GR9.csv.\n",
      "Data saved to Data/AirQuality/PM10/GR8.csv.\n",
      "Data saved to Data/AirQuality/PM10/GR8.csv.\n",
      "Data saved to Data/AirQuality/PM10/HK6.csv.\n",
      "Data saved to Data/AirQuality/PM10/HR2.csv.\n",
      "Data saved to Data/AirQuality/PM10/HR1.csv.\n",
      "Data saved to Data/AirQuality/PM10/HV1.csv.\n",
      "Data saved to Data/AirQuality/PM10/HV3.csv.\n",
      "Data saved to Data/AirQuality/PM10/LH0.csv.\n",
      "Data saved to Data/AirQuality/PM10/IS6.csv.\n",
      "Data saved to Data/AirQuality/PM10/IS2.csv.\n",
      "Data saved to Data/AirQuality/PM10/KF1.csv.\n",
      "Data saved to Data/AirQuality/PM10/KT4.csv.\n",
      "Data saved to Data/AirQuality/PM10/LB5.csv.\n",
      "Data saved to Data/AirQuality/PM10/LB4.csv.\n",
      "Data saved to Data/AirQuality/PM10/LB6.csv.\n",
      "Data saved to Data/AirQuality/PM10/HP1.csv.\n",
      "Data saved to Data/AirQuality/PM10/LW4.csv.\n",
      "Data saved to Data/AirQuality/PM10/LW2.csv.\n",
      "Data saved to Data/AirQuality/PM10/TD5.csv.\n",
      "Data saved to Data/AirQuality/PM10/ME2.csv.\n",
      "Data saved to Data/AirQuality/PM10/NM2.csv.\n",
      "Data saved to Data/AirQuality/PM10/NM3.csv.\n",
      "Data saved to Data/AirQuality/PM10/RB4.csv.\n",
      "Data saved to Data/AirQuality/PM10/RB7.csv.\n",
      "Data saved to Data/AirQuality/PM10/RI2.csv.\n",
      "Data saved to Data/AirQuality/PM10/RI1.csv.\n",
      "Data saved to Data/AirQuality/PM10/RHG.csv.\n",
      "Data saved to Data/AirQuality/PM10/SK5.csv.\n",
      "Data saved to Data/AirQuality/PM10/ST8.csv.\n",
      "Data saved to Data/AirQuality/PM10/ST8.csv.\n",
      "Data saved to Data/AirQuality/PM10/ST5.csv.\n",
      "Data saved to Data/AirQuality/PM10/ST4.csv.\n",
      "Data saved to Data/AirQuality/PM10/ST6.csv.\n",
      "Data saved to Data/AirQuality/PM10/TH4.csv.\n",
      "Data saved to Data/AirQuality/PM10/WAA.csv.\n",
      "Data saved to Data/AirQuality/PM10/WAC.csv.\n",
      "Data saved to Data/AirQuality/PM10/WA9.csv.\n",
      "Data saved to Data/AirQuality/PM10/WA7.csv.\n",
      "Data saved to Data/AirQuality/PM10/WAB.csv.\n",
      "Data saved to Data/AirQuality/PM10/WM0.csv.\n",
      "Data saved to Data/AirQuality/PM10/MY1.csv.\n",
      "Data saved to Data/AirQuality/PM10/MY7.csv.\n",
      "Data saved to Data/AirQuality/PM10/WM6.csv.\n"
     ]
    }
   ],
   "source": [
    "\n",
    "#dont print anything for this code chunk\n",
    "\n",
    "\n",
    "for site_code in Sites_Codes_PM10:\n",
    "\n",
    "\n",
    "    url = f\"https://api.erg.ic.ac.uk/AirQuality/Data/SiteSpecies/SiteCode={site_code}/SpeciesCode=PM10/StartDate=17 Dec 2017/EndDate=17 Mar 2018/csv\"\n",
    "    filename = f\"Data/AirQuality/PM10/{site_code}.csv\"\n",
    "\n",
    "    LoadFromAPI.load_data_from_api(url=url,data_format=\"csv\", filename=filename)"
   ]
  },
  {
   "cell_type": "markdown",
   "metadata": {},
   "source": [
    "#### Download the SO2 data of the site in the time period from 2017-12-16 to 2018-03-17"
   ]
  },
  {
   "cell_type": "code",
   "execution_count": 49,
   "metadata": {},
   "outputs": [
    {
     "name": "stdout",
     "output_type": "stream",
     "text": [
      "['BG1' 'BX1' 'BL0' 'EN4' 'GR4' 'KC1' 'LB5' 'MY1']\n"
     ]
    },
    {
     "name": "stderr",
     "output_type": "stream",
     "text": [
      "C:\\Users\\SBH\\AppData\\Local\\Temp\\ipykernel_14628\\3815332741.py:3: SettingWithCopyWarning: \n",
      "A value is trying to be set on a copy of a slice from a DataFrame.\n",
      "Try using .loc[row_indexer,col_indexer] = value instead\n",
      "\n",
      "See the caveats in the documentation: https://pandas.pydata.org/pandas-docs/stable/user_guide/indexing.html#returning-a-view-versus-a-copy\n",
      "  Sites_SO2['DateMeasurementFinished'] = pd.to_datetime(Sites_SO2['DateMeasurementFinished'], errors='coerce')\n",
      "C:\\Users\\SBH\\AppData\\Local\\Temp\\ipykernel_14628\\3815332741.py:4: SettingWithCopyWarning: \n",
      "A value is trying to be set on a copy of a slice from a DataFrame.\n",
      "Try using .loc[row_indexer,col_indexer] = value instead\n",
      "\n",
      "See the caveats in the documentation: https://pandas.pydata.org/pandas-docs/stable/user_guide/indexing.html#returning-a-view-versus-a-copy\n",
      "  Sites_SO2['DateMeasurementStarted'] = pd.to_datetime(Sites_SO2['DateMeasurementStarted'], errors='coerce')\n"
     ]
    }
   ],
   "source": [
    "Sites_SO2 = SiteSpecies[SiteSpecies['SpeciesCode'] == 'SO2']\n",
    "\n",
    "Sites_SO2['DateMeasurementFinished'] = pd.to_datetime(Sites_SO2['DateMeasurementFinished'], errors='coerce')\n",
    "Sites_SO2['DateMeasurementStarted'] = pd.to_datetime(Sites_SO2['DateMeasurementStarted'], errors='coerce')\n",
    "\n",
    "# set some conditions for filtering\n",
    "# condition1: 'DateClosed' is NAN or later than'2017-12-16 00:00'\n",
    "# condition2: 'DateOpened' is earlier than '2018-03-17 00:00'\n",
    "condition = (Sites_SO2['DateMeasurementFinished'].isna() | (Sites_SO2['DateMeasurementFinished'] > pd.Timestamp('2018-03-17 00:00'))) & (Sites_SO2['DateMeasurementStarted'] < pd.Timestamp('2017-12-16 00:00'))\n",
    "\n",
    "# apply the filter condition to the dataframe\n",
    "filtered_Sites_SO2 = Sites_SO2[condition]\n",
    "\n",
    "# get the site codes for further downloading the data\n",
    "Sites_Codes_SO2 = filtered_Sites_SO2['SiteCode'].values\n",
    "print(Sites_Codes_SO2)"
   ]
  },
  {
   "cell_type": "code",
   "execution_count": 50,
   "metadata": {},
   "outputs": [
    {
     "name": "stdout",
     "output_type": "stream",
     "text": [
      "Data saved to Data/AirQuality/SO2/BG1.csv.\n",
      "Data saved to Data/AirQuality/SO2/BX1.csv.\n",
      "Data saved to Data/AirQuality/SO2/BL0.csv.\n",
      "Data saved to Data/AirQuality/SO2/EN4.csv.\n",
      "Data saved to Data/AirQuality/SO2/GR4.csv.\n",
      "Data saved to Data/AirQuality/SO2/KC1.csv.\n",
      "Data saved to Data/AirQuality/SO2/LB5.csv.\n",
      "Data saved to Data/AirQuality/SO2/MY1.csv.\n"
     ]
    }
   ],
   "source": [
    "\n",
    "#dont print anything for this code chunk\n",
    "\n",
    "\n",
    "for site_code in Sites_Codes_SO2:\n",
    "\n",
    "\n",
    "    url = f\"https://api.erg.ic.ac.uk/AirQuality/Data/SiteSpecies/SiteCode={site_code}/SpeciesCode=SO2/StartDate=17 Dec 2017/EndDate=17 Mar 2018/csv\"\n",
    "    filename = f\"Data/AirQuality/SO2/{site_code}.csv\"\n",
    "\n",
    "    LoadFromAPI.load_data_from_api(url=url,data_format=\"csv\", filename=filename)"
   ]
  },
  {
   "cell_type": "markdown",
   "metadata": {},
   "source": [
    "**pivot the long format data to wide format data**"
   ]
  },
  {
   "cell_type": "code",
   "execution_count": null,
   "metadata": {},
   "outputs": [
    {
     "name": "stdout",
     "output_type": "stream",
     "text": [
      "Index(['MeasurementDateGMT', 'Bexley - Belvedere West: PM2.5 Particulate (ug/m3)'], dtype='object')\n",
      "MeasurementDateGMT\n",
      "Bexley - Belvedere West: PM2.5 Particulate (ug/m3)\n"
     ]
    }
   ],
   "source": [
    "# read data from csv file\n",
    "df = pd.read_csv('Data/AirQuality/BQ7_20180101.csv')\n",
    "print(df.columns)\n",
    "\n",
    "MeasurementDateGMT = df.columns[0]\n",
    "print(MeasurementDateGMT)\n",
    "field = df.columns[1]\n",
    "print(field)"
   ]
  },
  {
   "cell_type": "code",
   "execution_count": null,
   "metadata": {},
   "outputs": [
    {
     "name": "stdout",
     "output_type": "stream",
     "text": [
      "hour        00:00  01:00  02:00  03:00  04:00  05:00  06:00  07:00  08:00  \\\n",
      "date                                                                        \n",
      "2022-05-04   13.3   13.9   15.4   20.2   21.3   20.5   22.7   28.3   31.9   \n",
      "2022-03-14    NaN    NaN    NaN    NaN    NaN    NaN    NaN    NaN    NaN   \n",
      "2022-10-29    6.8    5.3    5.3    6.0    6.3    6.0    6.3    6.7    7.9   \n",
      "2022-03-23    NaN    NaN    NaN    NaN    NaN    NaN    NaN    NaN    NaN   \n",
      "2022-04-22    8.3    9.7   11.6   12.7   13.4   14.9   16.8   15.4   14.8   \n",
      "2022-11-18    3.0    2.8    2.9    2.7    2.5    2.4    2.5    2.7    2.9   \n",
      "2023-02-09   23.8   23.8   23.0   22.4   21.5   20.4   18.1   18.4   18.9   \n",
      "2022-12-17   36.3   34.0   30.4   27.4   26.6   25.2   17.1    4.4    4.6   \n",
      "2023-01-10    8.9    8.3    7.8    7.6    7.1    7.4    7.9    7.8    5.4   \n",
      "2023-01-13    6.7    5.3    6.1    6.2    6.8    6.4    6.1    6.5    6.5   \n",
      "2022-11-23    6.4    5.9    5.5    4.7    3.6    4.0    4.7    4.4    2.0   \n",
      "2022-05-30    4.4    5.0    4.5    4.8    4.1    3.6    3.3    2.5    2.7   \n",
      "2023-03-24    4.3    5.8    6.3    6.6    7.6    8.3    8.3    7.8    6.9   \n",
      "2022-03-17    NaN    NaN    NaN    NaN    NaN    NaN    NaN    NaN    NaN   \n",
      "2022-08-04    4.0    4.0    4.1    4.2    4.4    5.3    4.9    4.7    5.0   \n",
      "\n",
      "hour        09:00  ...  14:00  15:00  16:00  17:00  18:00  19:00  20:00  \\\n",
      "date               ...                                                    \n",
      "2022-05-04   25.7  ...    7.6    6.7    5.2    5.6    5.8    6.0    5.3   \n",
      "2022-03-14    NaN  ...    NaN    NaN    NaN    NaN    NaN    NaN    NaN   \n",
      "2022-10-29    8.7  ...   10.4   12.2   13.3   15.8   14.7   15.5   16.8   \n",
      "2022-03-23    NaN  ...    NaN    NaN    NaN    NaN    NaN    NaN    NaN   \n",
      "2022-04-22   13.3  ...    9.7   13.2   10.3    8.6    7.3    7.2    8.7   \n",
      "2022-11-18    3.3  ...    2.7    3.0    3.0    2.4    4.7    4.8    4.8   \n",
      "2023-02-09   20.9  ...    7.9    5.0    6.6    8.7    7.0    8.5    8.9   \n",
      "2022-12-17    5.6  ...   10.0    9.2   12.2   14.8   17.6   15.2   18.5   \n",
      "2023-01-10    2.6  ...   10.2    7.3    8.2    6.1    2.3    1.6    1.4   \n",
      "2023-01-13    6.1  ...    4.8    5.1    5.5    6.6    7.6    8.2    8.6   \n",
      "2022-11-23    1.2  ...    5.6    5.3    5.0    6.2    8.2    9.5    7.0   \n",
      "2022-05-30    2.6  ...    2.4    2.6    2.9    2.7    2.2    2.0    3.9   \n",
      "2023-03-24    6.3  ...    4.1    4.5    5.1    2.2    1.7    3.7    6.4   \n",
      "2022-03-17    NaN  ...    NaN    NaN    NaN    NaN    NaN    NaN    NaN   \n",
      "2022-08-04    4.8  ...    3.6    3.1    3.5    3.2    3.0    2.9    3.1   \n",
      "\n",
      "hour        21:00  22:00  23:00  \n",
      "date                             \n",
      "2022-05-04    4.3    5.3    6.3  \n",
      "2022-03-14    NaN    NaN    NaN  \n",
      "2022-10-29   15.1   12.4    9.7  \n",
      "2022-03-23    NaN    NaN    NaN  \n",
      "2022-04-22    9.4   10.9   12.5  \n",
      "2022-11-18    5.1    5.3    5.1  \n",
      "2023-02-09    9.8   11.3   14.5  \n",
      "2022-12-17   19.1   18.6   19.9  \n",
      "2023-01-10    1.2    1.9    2.4  \n",
      "2023-01-13    8.8    8.8    8.4  \n",
      "2022-11-23    7.7    7.7    6.3  \n",
      "2022-05-30    7.2    6.0    4.9  \n",
      "2023-03-24    6.8    5.7    5.1  \n",
      "2022-03-17    NaN    NaN    NaN  \n",
      "2022-08-04    2.9    3.3    3.6  \n",
      "\n",
      "[15 rows x 24 columns]\n"
     ]
    }
   ],
   "source": [
    "\n",
    "# Convert the 'MeasurementDateGMT' to datetime to extract date and hour\n",
    "df['MeasurementDateGMT'] = pd.to_datetime(df['MeasurementDateGMT'])\n",
    "\n",
    "# Extract hour as a string with format 'HH:MM' to use as column names\n",
    "df['hour'] = df['MeasurementDateGMT'].dt.strftime('%H:%M')\n",
    "\n",
    "# Create a date column from the 'MeasurementDateGMT' datetime\n",
    "df['date'] = df['MeasurementDateGMT'].dt.date\n",
    "\n",
    "# Pivot the DataFrame to get the wide format with date as index\n",
    "df_wide = df.pivot(index='date', columns='hour', values='Bexley - Belvedere West: PM2.5 Particulate (ug/m3)')\n",
    "\n",
    "# 查看随机几行数据\n",
    "print(df_wide.sample(15))\n"
   ]
  },
  {
   "cell_type": "code",
   "execution_count": null,
   "metadata": {},
   "outputs": [
    {
     "name": "stdout",
     "output_type": "stream",
     "text": [
      "Data saved to Data/AirQuality/BQ7_20180101.csv.\n"
     ]
    }
   ],
   "source": [
    "LoadFromAPI.load_data_from_api(url='https://api.erg.ic.ac.uk/AirQuality/Data/SiteSpecies/SiteCode=BT8/SpeciesCode=NO2/StartDate=01 Mar 2022/EndDate=01 Apr 2023/csv', \n",
    "                               data_format=\"csv\", \n",
    "                               filename=\"Data/AirQuality/BQ7_20180101.csv\")"
   ]
  },
  {
   "cell_type": "code",
   "execution_count": null,
   "metadata": {},
   "outputs": [],
   "source": [
    "# This returns raw data based on 'SiteCode', 'StartDate', 'EndDate'. Data returned in JSON format from traffic counters.\n",
    "LoadFromAPI.load_data_from_api(url='https://api.erg.ic.ac.uk/AirQuality/Data/Traffic/Site/SiteCode=BT8/StartDate=01 Mar 2022/EndDate=01 Apr 2023/Json', \n",
    "                               data_format=\"json\", \n",
    "                               filename=\"Data/AirQuality/BT8_2022_2023.json\")"
   ]
  },
  {
   "cell_type": "markdown",
   "metadata": {},
   "source": [
    "### Potential thing for air quality data\n",
    "\n",
    "https://www.data.gov.uk/dataset/ef87da6c-0b01-4717-aab4-a076e8b8ff7e/london-atmospheric-emissions-inventory-laei-2013"
   ]
  },
  {
   "cell_type": "markdown",
   "metadata": {},
   "source": [
    "## Interactive GUI for London Roads Data"
   ]
  }
 ],
 "metadata": {
  "kernelspec": {
   "display_name": "base",
   "language": "python",
   "name": "python3"
  },
  "language_info": {
   "codemirror_mode": {
    "name": "ipython",
    "version": 3
   },
   "file_extension": ".py",
   "mimetype": "text/x-python",
   "name": "python",
   "nbconvert_exporter": "python",
   "pygments_lexer": "ipython3",
   "version": "0.0.0"
  }
 },
 "nbformat": 4,
 "nbformat_minor": 2
}
