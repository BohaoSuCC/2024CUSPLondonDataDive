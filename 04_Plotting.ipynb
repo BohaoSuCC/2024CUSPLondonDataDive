{
 "cells": [
  {
   "cell_type": "code",
   "execution_count": 2,
   "metadata": {},
   "outputs": [],
   "source": [
    "import torch\n",
    "import torch.nn as nn\n",
    "from torch.utils.data import DataLoader, TensorDataset\n",
    "from sklearn.preprocessing import StandardScaler\n",
    "from sklearn.model_selection import train_test_split\n",
    "import pandas as pd\n",
    "import matplotlib.pyplot as plt\n",
    "from sklearn.metrics import mean_squared_error as mse\n",
    "import numpy as np\n",
    "from datetime import datetime\n",
    "import os"
   ]
  },
  {
   "cell_type": "code",
   "execution_count": 3,
   "metadata": {},
   "outputs": [],
   "source": [
    "Data = pd.read_csv('Data/AQ_CS_All_Full.csv')\n",
    "CSMeta = pd.read_csv('Data/CongestionScoot/Metadata(siteCoordinates.csv')"
   ]
  },
  {
   "cell_type": "code",
   "execution_count": 5,
   "metadata": {},
   "outputs": [],
   "source": [
    "all_CS = CSMeta['ID'].tolist()\n",
    "#初始化GiantData\n",
    "GiantData = pd.DataFrame()"
   ]
  },
  {
   "cell_type": "code",
   "execution_count": 7,
   "metadata": {},
   "outputs": [
    {
     "name": "stdout",
     "output_type": "stream",
     "text": [
      "File Data/CongestionScoot/MergedCSVs/01-857.csv does not exist.\n",
      "File Data/CongestionScoot/MergedCSVs/01-858.csv does not exist.\n",
      "File Data/CongestionScoot/MergedCSVs/12-173.csv does not exist.\n",
      "File Data/CongestionScoot/MergedCSVs/13-077.csv does not exist.\n",
      "File Data/CongestionScoot/MergedCSVs/13-172.csv does not exist.\n",
      "File Data/CongestionScoot/MergedCSVs/23-850.csv does not exist.\n"
     ]
    }
   ],
   "source": [
    "# 用for循环来读取\"Data/CongestionScoot/MergedCSVs\"文件夹下的所有文件名存在于\"all_CS\"这个list下的csv文件\n",
    "for i in all_CS:\n",
    "    filenameurl = f\"Data/CongestionScoot/MergedCSVs/{i}.csv\"\n",
    "    if os.path.exists(filenameurl):\n",
    "        df = pd.read_csv(filenameurl)\n",
    "        # 'Date'列的格式是17-Dec-2017，'Time'列的格式是0:00，需要合并成一个datetime格式的列\n",
    "        df['DateTime'] = pd.to_datetime(df['Date'] + ' ' + df['Time'])\n",
    "        #将‘DateTime’列的格式设置为17-12-2017 00:00，\n",
    "        df['DateTime'] = df['DateTime'].dt.strftime('%d-%m-%Y %H:%M')\n",
    "        #然后选取所有'Time'列的值为xx:00的行\n",
    "        sub_df = df[df['Time'].str.contains(':00')]\n",
    "        #将sub_df的添加到GiantData中\n",
    "        GiantData = pd.concat([GiantData, sub_df], ignore_index=True)\n",
    "    else:\n",
    "        print(f\"File {filenameurl} does not exist.\")"
   ]
  },
  {
   "cell_type": "code",
   "execution_count": 8,
   "metadata": {},
   "outputs": [],
   "source": [
    "GiantData.to_csv('Data/CongestionScoot/GiantData.csv', index=False)"
   ]
  },
  {
   "cell_type": "code",
   "execution_count": null,
   "metadata": {},
   "outputs": [],
   "source": [
    "\n",
    "\"\"\"\n",
    "BigData = pd.DataFrame()\n",
    "Allsites = pd.DataFrame()\n",
    "\n",
    "for i in all_CS:\n",
    "    filenameurl = f\"Data/CongestionScoot/MergedCSVs/{i}.csv\"\n",
    "    if os.path.exists(filenameurl):\n",
    "        df = pd.read_csv(filenameurl)\n",
    "        df['ID'] = i\n",
    "        # 使用df.iloc[[-1]]而不是df.iloc[-1]来保持DataFrame格式\n",
    "        Allsites = pd.concat([Allsites, df.iloc[[-1]]], ignore_index=True)\n",
    "    else:\n",
    "        print(f\"File {filenameurl} does not exist.\")\n",
    "\n",
    "# 循环结束后，进行一次性合并\n",
    "# 确保CSMeta和Allsites都有'ID'列可供合并\n",
    "if not Allsites.empty:\n",
    "    BigData = pd.merge(CSMeta, Allsites, on='ID', how='left')\n",
    "else:\n",
    "    print(\"No sites data available to merge.\")\"\"\""
   ]
  },
  {
   "cell_type": "code",
   "execution_count": null,
   "metadata": {},
   "outputs": [],
   "source": []
  }
 ],
 "metadata": {
  "kernelspec": {
   "display_name": "base",
   "language": "python",
   "name": "python3"
  },
  "language_info": {
   "codemirror_mode": {
    "name": "ipython",
    "version": 3
   },
   "file_extension": ".py",
   "mimetype": "text/x-python",
   "name": "python",
   "nbconvert_exporter": "python",
   "pygments_lexer": "ipython3",
   "version": "3.11.5"
  }
 },
 "nbformat": 4,
 "nbformat_minor": 2
}
