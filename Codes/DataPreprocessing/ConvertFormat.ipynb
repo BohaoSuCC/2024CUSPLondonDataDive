{
 "cells": [
  {
   "cell_type": "markdown",
   "metadata": {},
   "source": [
    "## 各种文件格式转换"
   ]
  },
  {
   "cell_type": "markdown",
   "metadata": {},
   "source": [
    "#### KML转geojson/shapefile"
   ]
  },
  {
   "cell_type": "code",
   "execution_count": 1,
   "metadata": {},
   "outputs": [],
   "source": [
    "from osgeo import ogr, gdal\n",
    "import os\n",
    "\n",
    "# 定义函数\n",
    "\n",
    "def convert_kml_to_format(input_file, output_file, output_format=\"GeoJSON\"):\n",
    "    \"\"\"\n",
    "    Converts a KML file to another geospatial data format.\n",
    "\n",
    "    Args:\n",
    "    input_file (str): Path to the input KML file.\n",
    "    output_file (str): Path where the output file will be saved.\n",
    "    output_format (str): Format of the output file. Default is \"GeoJSON\".\n",
    "                         Other formats could be \"ESRI Shapefile\", etc.\n",
    "    \"\"\"\n",
    "    # 获取输入文件的数据源\n",
    "    input_ds = ogr.Open(input_file)\n",
    "    if input_ds is None:\n",
    "        raise RuntimeError(f\"Failed to open input file: {input_file}\")\n",
    "\n",
    "    # 获取驱动程序，用于输出文件的格式\n",
    "    driver = ogr.GetDriverByName(output_format)\n",
    "    if driver is None:\n",
    "        raise RuntimeError(f\"Driver not found for format: {output_format}\")\n",
    "\n",
    "    # 如果输出文件已存在，先删除它\n",
    "    if ogr.Open(output_file) is not None:\n",
    "        driver.DeleteDataSource(output_file)\n",
    "    \n",
    "    # 创建输出文件的数据源\n",
    "    output_ds = driver.CreateDataSource(output_file)\n",
    "    if output_ds is None:\n",
    "        raise RuntimeError(f\"Failed to create output file: {output_file}\")\n",
    "\n",
    "    # 遍历输入数据源中的每个图层并复制到输出数据源\n",
    "    for i in range(input_ds.GetLayerCount()):\n",
    "        input_layer = input_ds.GetLayerByIndex(i)\n",
    "        output_layer = output_ds.CreateLayer(input_layer.GetName(),\n",
    "                                             geom_type=input_layer.GetGeomType())\n",
    "        # 复制图层定义\n",
    "        output_layer_defn = output_layer.GetLayerDefn()\n",
    "\n",
    "        # 从输入图层复制要素到输出图层\n",
    "        for feature in input_layer:\n",
    "            output_feature = ogr.Feature(output_layer_defn)\n",
    "            output_feature.SetGeometry(feature.GetGeometryRef().Clone())\n",
    "            output_layer.CreateFeature(output_feature)\n",
    "\n",
    "    # 清理资源\n",
    "    del output_ds, input_ds\n"
   ]
  },
  {
   "cell_type": "code",
   "execution_count": 6,
   "metadata": {},
   "outputs": [],
   "source": [
    "\n",
    "# 调用函数进行转换\n",
    "input_file = '../Data/Transport/Cycling/CycleRoutes.kml'\n",
    "output_file = '../Data/Transport/Cycling/CycleRoutes.geojson'\n",
    "convert_kml_to_format(input_file, output_file, \"GeoJSON\")  # 或者 \"ESRI Shapefile\" 为Shapefile格式\n",
    "\n",
    "\n"
   ]
  },
  {
   "cell_type": "markdown",
   "metadata": {},
   "source": [
    "#### JSON转geojson/shapefile"
   ]
  },
  {
   "cell_type": "code",
   "execution_count": 4,
   "metadata": {},
   "outputs": [],
   "source": [
    "import ijson"
   ]
  },
  {
   "cell_type": "code",
   "execution_count": 5,
   "metadata": {},
   "outputs": [],
   "source": [
    "# 分析json文件的结构\n",
    "\n",
    "def print_json_structure(filename):\n",
    "    \"\"\"\n",
    "    使用ijson打印JSON文件的结构。\n",
    "    \"\"\"\n",
    "    with open(filename, 'rb') as file:\n",
    "        # 使用ijson解析文件结构\n",
    "        parser = ijson.parse(file)\n",
    "        path = []\n",
    "        for prefix, event, value in parser:\n",
    "            if event == 'start_map':\n",
    "                path.append(prefix.split('.')[-1] if prefix else 'root')\n",
    "                print(' -> '.join(path))\n",
    "            elif event == 'end_map':\n",
    "                path.pop()\n"
   ]
  },
  {
   "cell_type": "code",
   "execution_count": 16,
   "metadata": {},
   "outputs": [],
   "source": [
    "# 读取大型JSON文件并另存为geojson格式\n",
    "import json\n",
    "from geojson import Feature, FeatureCollection, LineString, Point\n",
    "\n",
    "def convert_json_to_geojson(input_file, output_file):\n",
    "    # 读取JSON文件\n",
    "    with open(input_file, 'r') as file:\n",
    "        data = json.load(file)\n",
    "    \n",
    "    \n",
    "    # 解析features数组，构建GeoJSON特征列表\n",
    "    features = []\n",
    "    for feature in data['features']:\n",
    "        geometry = feature['geometry']\n",
    "        properties = feature['properties']\n",
    "        \n",
    "        # 根据geometry类型创建相应的GeoJSON geometry对象\n",
    "        if geometry['type'] == 'LineString':\n",
    "            geojson_geom = LineString(geometry['coordinates'])\n",
    "        elif geometry['type'] == 'Point':\n",
    "            geojson_geom = Point(geometry['coordinates'])\n",
    "        else:\n",
    "            # 如果有其他未支持的几何类型，可以在这里扩展\n",
    "            continue  # 跳过当前循环，处理下一个feature\n",
    "        \n",
    "        # 创建并添加GeoJSON Feature\n",
    "        geojson_feature = Feature(geometry=geojson_geom, properties=properties)\n",
    "        features.append(geojson_feature)\n",
    "    \n",
    "    # 创建GeoJSON FeatureCollection\n",
    "    feature_collection = FeatureCollection(features)\n",
    "    \n",
    "    # 保存GeoJSON文件\n",
    "    with open(output_file, 'w') as file:\n",
    "        json.dump(feature_collection, file, indent=2)\n",
    "    \n",
    "    print(f\"GeoJSON file has been saved as: {output_file}\")\n"
   ]
  },
  {
   "cell_type": "code",
   "execution_count": 25,
   "metadata": {},
   "outputs": [
    {
     "name": "stdout",
     "output_type": "stream",
     "text": [
      "GeoJSON file has been saved as: ../Data/Transport/Cycling/GEOJSON/traffic_calming.geojson\n"
     ]
    }
   ],
   "source": [
    "# 示例用法\n",
    "input_file = '../Data/Transport/Cycling/JSONorKML/traffic_calming.json'  # 更换为你的JSON文件路径\n",
    "output_file = '../Data/Transport/Cycling/GEOJSON/traffic_calming.geojson'  # 更换为输出文件路径\n",
    "convert_json_to_geojson(input_file,output_file)"
   ]
  },
  {
   "cell_type": "markdown",
   "metadata": {},
   "source": [
    "## XML转geojson"
   ]
  },
  {
   "cell_type": "code",
   "execution_count": null,
   "metadata": {},
   "outputs": [],
   "source": [
    "import xml.etree.ElementTree as ET\n",
    "import json"
   ]
  },
  {
   "cell_type": "code",
   "execution_count": null,
   "metadata": {},
   "outputs": [],
   "source": [
    "\n",
    "\n",
    "# 解析XML\n",
    "root = ET.fromstring(\"../Data/AirQuality/MonitoringSites.xml\")\n",
    "\n",
    "# 创建GeoJSON结构\n",
    "geojson = {\n",
    "    \"type\": \"FeatureCollection\",\n",
    "    \"features\": []\n",
    "}\n",
    "\n",
    "for site in root.findall('Site'):\n",
    "    feature = {\n",
    "        \"type\": \"Feature\",\n",
    "        \"properties\": {\n",
    "            \"LocalAuthorityCode\": site.attrib['LocalAuthorityCode'],\n",
    "            \"LocalAuthorityName\": site.attrib['LocalAuthorityName'],\n",
    "            \"SiteCode\": site.attrib['SiteCode'],\n",
    "            \"SiteName\": site.attrib['SiteName'],\n",
    "            \"SiteType\": site.attrib['SiteType'],\n",
    "            \"DateClosed\": site.attrib['DateClosed'],\n",
    "            \"DateOpened\": site.attrib['DateOpened'],\n",
    "            \"DataOwner\": site.attrib['DataOwner'],\n",
    "            \"DataManager\": site.attrib['DataManager'],\n",
    "            \"SiteLink\": site.attrib['SiteLink'],\n",
    "            \"Species\": []\n",
    "        },\n",
    "        \"geometry\": {\n",
    "            \"type\": \"Point\",\n",
    "            \"coordinates\": [float(site.attrib['Longitude']), float(site.attrib['Latitude'])]\n",
    "        }\n",
    "    }\n",
    "    \n",
    "    # 添加物种信息到properties\n",
    "    for species in site.findall('Species'):\n",
    "        feature[\"properties\"][\"Species\"].append({\n",
    "            \"SpeciesCode\": species.attrib['SpeciesCode'],\n",
    "            \"SpeciesDescription\": species.attrib['SpeciesDescription'],\n",
    "            \"DateMeasurementStarted\": species.attrib['DateMeasurementStarted'],\n",
    "            \"DateMeasurementFinished\": species.attrib['DateMeasurementFinished'],\n",
    "        })\n",
    "    \n",
    "    # 将feature添加到features列表中\n",
    "    geojson[\"features\"].append(feature)\n",
    "\n",
    "# 将GeoJSON转换为字符串\n",
    "geojson_str = json.dumps(geojson, indent=4)\n",
    "\n",
    "# 打印GeoJSON字符串\n",
    "print(geojson_str)"
   ]
  }
 ],
 "metadata": {
  "kernelspec": {
   "display_name": "base",
   "language": "python",
   "name": "python3"
  },
  "language_info": {
   "codemirror_mode": {
    "name": "ipython",
    "version": 3
   },
   "file_extension": ".py",
   "mimetype": "text/x-python",
   "name": "python",
   "nbconvert_exporter": "python",
   "pygments_lexer": "ipython3",
   "version": "3.11.5"
  }
 },
 "nbformat": 4,
 "nbformat_minor": 2
}
