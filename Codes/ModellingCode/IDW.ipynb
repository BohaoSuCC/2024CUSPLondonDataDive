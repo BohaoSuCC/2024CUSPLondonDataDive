{
 "cells": [
  {
   "cell_type": "markdown",
   "metadata": {},
   "source": [
    "\n",
    "If you want to generate a raster image instead of a scatter plot, you can modify the visualization part of the code to use imshow instead of contourf and scatter. This change will display the interpolated values as a raster image, which represents the data on a regular grid in image format. Here's how you can adapt the previous example for a raster visualization, including translated comments and descriptions in English:"
   ]
  },
  {
   "cell_type": "code",
   "execution_count": null,
   "metadata": {},
   "outputs": [],
   "source": [
    "import pandas as pd\n",
    "from scipy.spatial import distance_matrix\n",
    "import matplotlib.pyplot as plt\n",
    "\n",
    "# Define the data for the known points\n",
    "data = {\n",
    "    'x': [1, 2, 3, 4],\n",
    "    'y': [2, 3, 4, 5],\n",
    "    'value': [10, 20, 15, 25]\n",
    "}\n",
    "df = pd.DataFrame(data)\n",
    "\n",
    "# Create the grid for interpolation\n",
    "x_range = pd.np.linspace(df['x'].min(), df['x'].max(), 100)\n",
    "y_range = pd.np.linspace(df['y'].min(), df['y'].max(), 100)\n",
    "grid_x, grid_y = pd.np.meshgrid(x_range, y_range)\n",
    "\n",
    "# Define the IDW interpolation function\n",
    "def idw_interpolation(x, y, df, power=2):\n",
    "    # Calculate the distance from each grid point to the known points\n",
    "    distances = distance_matrix(df[['x', 'y']], pd.np.array([[x, y]]))\n",
    "    # If a point exactly at the interpolation point, return its value directly\n",
    "    if pd.np.min(distances) == 0:\n",
    "        return df.loc[pd.np.argmin(distances), 'value']\n",
    "    # Calculate the weights\n",
    "    weights = 1 / pd.np.power(distances, power)\n",
    "    # Calculate the weighted average value\n",
    "    weighted_values = weights * df['value'].values[:, pd.np.newaxis]\n",
    "    return pd.np.sum(weighted_values) / pd.np.sum(weights)\n",
    "\n",
    "# Apply IDW interpolation to each grid point\n",
    "interpolated_values = pd.np.vectorize(idw_interpolation)(grid_x, grid_y, df)\n",
    "\n",
    "# Visualization\n",
    "plt.imshow(interpolated_values, extent=(df['x'].min(), df['x'].max(), df['y'].min(), df['y'].max()), origin='lower', cmap='viridis')\n",
    "plt.colorbar()\n",
    "plt.xlabel('X')\n",
    "plt.ylabel('Y')\n",
    "plt.title('IDW Interpolation Raster Image')\n",
    "plt.show()\n"
   ]
  },
  {
   "cell_type": "markdown",
   "metadata": {},
   "source": [
    "In this code snippet:\n",
    "\n",
    "The visualization part has been modified to use plt.imshow() for displaying the raster image. The extent argument sets the x and y limits to match the original data's range, and origin='lower' ensures that the image's origin is at the bottom-left corner, which is a common convention for spatial data.\n",
    "The comments and descriptions have been translated into English to provide clarity on the process and the functions used.\n",
    "This approach will give you a raster visualization of the interpolated data, which might be more appropriate for certain types of spatial analysis or when you want to visually represent the data in a format that's closer to traditional image data."
   ]
  }
 ],
 "metadata": {
  "language_info": {
   "name": "python"
  }
 },
 "nbformat": 4,
 "nbformat_minor": 2
}
