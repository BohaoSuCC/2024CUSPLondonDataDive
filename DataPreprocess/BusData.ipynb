{
 "cells": [
  {
   "cell_type": "code",
   "execution_count": 2,
   "metadata": {},
   "outputs": [],
   "source": [
    "from osgeo import gdal\n",
    "import rasterio\n",
    "import rasterio.plot\n",
    "import matplotlib.pyplot as plt\n",
    "from matplotlib import animation\n",
    "import os\n",
    "from dotenv import dotenv_values\n"
   ]
  },
  {
   "cell_type": "code",
   "execution_count": null,
   "metadata": {},
   "outputs": [],
   "source": [
    "\n",
    "config = dotenv_values(\".env\")\n",
    "data_directory = config['DATADIR']\n",
    "date_directory = data_directory + '\\\\distinctJourneyCounts\\\\2023\\\\10\\\\28\\\\'\n",
    "visdir = config['VISDIR'] + '\\\\distinctJourneyCounts\\\\'\n"
   ]
  },
  {
   "cell_type": "code",
   "execution_count": 3,
   "metadata": {},
   "outputs": [
    {
     "ename": "NameError",
     "evalue": "name 'date_directory' is not defined",
     "output_type": "error",
     "traceback": [
      "\u001b[1;31m---------------------------------------------------------------------------\u001b[0m",
      "\u001b[1;31mNameError\u001b[0m                                 Traceback (most recent call last)",
      "Cell \u001b[1;32mIn[3], line 1\u001b[0m\n\u001b[1;32m----> 1\u001b[0m files \u001b[38;5;241m=\u001b[39m os\u001b[38;5;241m.\u001b[39mlistdir(\u001b[43mdate_directory\u001b[49m)\n\u001b[0;32m      2\u001b[0m files_to_load \u001b[38;5;241m=\u001b[39m []\n\u001b[0;32m      3\u001b[0m \u001b[38;5;28;01mfor\u001b[39;00m f \u001b[38;5;129;01min\u001b[39;00m files:\n",
      "\u001b[1;31mNameError\u001b[0m: name 'date_directory' is not defined"
     ]
    }
   ],
   "source": [
    "\n",
    "files = os.listdir(date_directory)\n",
    "files_to_load = []\n",
    "for f in files:\n",
    "    files_to_load.append(f)\n",
    "files_to_load.sort()\n"
   ]
  },
  {
   "cell_type": "code",
   "execution_count": null,
   "metadata": {},
   "outputs": [],
   "source": [
    "\n",
    "# Get max value for the files of interest\n",
    "max_value = 0\n",
    "for f in files_to_load:\n",
    "    raster_data = rasterio.open(date_directory + f)\n",
    "    file_max_value = raster_data.read(1).max()\n",
    "    if file_max_value > max_value:\n",
    "        max_value = file_max_value\n"
   ]
  },
  {
   "cell_type": "code",
   "execution_count": null,
   "metadata": {},
   "outputs": [],
   "source": [
    "# plotting\n",
    "\n",
    "fig = plt.figure(figsize=(4*raster_data.width/172, 4*raster_data.height/172),\n",
    "                 dpi=172)\n",
    "fig.subplots_adjust(left=0, bottom=0, right=1, top=1, wspace=None, hspace=None)\n",
    "ax = plt.subplot(111)\n",
    "raster_data = rasterio.open(date_directory + files_to_load[0])\n",
    "im = plt.imshow(raster_data.read(1), cmap='hot', vmin=0, vmax=max_value)\n",
    "ax.axis('off')\n",
    "title = ax.text(x=0.5,\n",
    "        y=0.95,\n",
    "        s=files_to_load[0].split('_')[0],\n",
    "        horizontalalignment='center',\n",
    "        verticalalignment='center',\n",
    "        transform=ax.transAxes,\n",
    "        color='white',\n",
    "        fontsize=12)\n",
    "\n",
    "def animate(i):\n",
    "    a = im.get_array()\n",
    "    raster_data = rasterio.open(date_directory + files_to_load[i])\n",
    "    im.set_data(A=raster_data.read(1))\n",
    "    title.set_text(files_to_load[i].split('_')[0])\n",
    "    return im,\n",
    "\n",
    "anim = animation.FuncAnimation(fig, animate, frames=24, interval=20, blit=True)\n",
    "anim.save(visdir + 'distinctJourneyCounts_mplanimate_20231028.gif',\n",
    "          fps=1)"
   ]
  }
 ],
 "metadata": {
  "kernelspec": {
   "display_name": "base",
   "language": "python",
   "name": "python3"
  },
  "language_info": {
   "codemirror_mode": {
    "name": "ipython",
    "version": 3
   },
   "file_extension": ".py",
   "mimetype": "text/x-python",
   "name": "python",
   "nbconvert_exporter": "python",
   "pygments_lexer": "ipython3",
   "version": "3.11.5"
  }
 },
 "nbformat": 4,
 "nbformat_minor": 2
}
