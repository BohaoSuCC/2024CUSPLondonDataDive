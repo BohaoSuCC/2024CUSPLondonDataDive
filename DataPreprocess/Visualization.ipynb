{
 "cells": [
  {
   "cell_type": "markdown",
   "metadata": {},
   "source": [
    "## 用folium生成具有OSM底图的交互式的底图并另存为html文件"
   ]
  },
  {
   "cell_type": "code",
   "execution_count": null,
   "metadata": {},
   "outputs": [],
   "source": [
    "# 用geopandas读取转换后的文件\n",
    "import folium\n",
    "import geopandas as gpd\n",
    "from branca.colormap import linear\n",
    "import json\n",
    "\n",
    "import matplotlib.pyplot as plt\n",
    "import numpy as np\n",
    "import matplotlib"
   ]
  },
  {
   "cell_type": "code",
   "execution_count": null,
   "metadata": {},
   "outputs": [],
   "source": [
    "# 通过geopandas读取GeoJSON文件以方便查看属性值\n",
    "gdf = gpd.read_file('../Data/Transport/Cycling/GEOJSON/cycle_parking.geojson')\n",
    "gdf.shape"
   ]
  },
  {
   "cell_type": "code",
   "execution_count": null,
   "metadata": {},
   "outputs": [],
   "source": [
    "null_count = gdf['PRK_PROVIS'].isnull().sum()\n",
    "\n",
    "print(f\"PRK_PROVIS列中有 {null_count} 个空值\")"
   ]
  },
  {
   "cell_type": "code",
   "execution_count": null,
   "metadata": {},
   "outputs": [],
   "source": [
    "# 直接读取geojson文件并在osm底图上进行可视化\n",
    "\n",
    "\n",
    "# 设置伦敦市中心的经纬度\n",
    "london_center = [51.5074, -0.1278]\n",
    "\n",
    "# 创建一个地图对象，中心设为伦敦市中心\n",
    "m = folium.Map(location=[51.5074, -0.1278], zoom_start=13)\n",
    "\"\"\"\n",
    "#----------------------------------------------\n",
    "# 展示连续变量\n",
    "# 读取 GeoJSON 文件\n",
    "with open('../Data/Transport/Cycling/GEOJSON/cycle_parking.geojson') as f:\n",
    "    data = json.load(f)\n",
    "\n",
    "# 遍历所有要素，为 'PRK_CPT' 属性的空值赋值为 0.0\n",
    "for feature in data['features']:\n",
    "    if feature['properties'].get('PRK_CPT') is None:\n",
    "        feature['properties']['PRK_CPT'] = 0.0\n",
    "        \n",
    "# 创建一个线性颜色映射\n",
    "# 假设连续变量的范围是从 0 到 100\n",
    "colormap = linear.YlOrRd_09.scale(0, 200)\n",
    "colormap.caption = '连续变量的颜色映射'\n",
    "# 将颜色映射图例添加到地图\n",
    "folium.GeoJson(\n",
    "    data,\n",
    "    name='cycle_parking', # 使用文件名作为图层名称\n",
    "    style_function=lambda feature: {\n",
    "        'fillColor': colormap(feature['properties'].get('PRK_CPT', 0)),\n",
    "        'color': 'black',  # 线颜色\n",
    "        'weight': 2,\n",
    "        'fillOpacity': 0.7\n",
    "    }\n",
    ").add_to(m)\n",
    "\n",
    "\n",
    "# 将颜色映射图例添加到地图\n",
    "colormap.add_to(m)\n",
    "\"\"\"\n",
    "#-------------------------------------------------\n",
    "# 展示分类变量\n",
    "# 读取 GeoJSON 文件\n",
    "with open('../Data/Transport/Cycling/GEOJSON/restricted_route.geojson') as f:\n",
    "    data = json.load(f)\n",
    "\n",
    "# 获取所有分类变量的唯一值\n",
    "categories = set(feature['properties']['BOROUGH'] for feature in data['features'])\n",
    "\n",
    "# 使用 matplotlib 生成颜色映射\n",
    "colors = plt.cm.plasma(np.linspace(0, 1, len(categories)))  # 使用 plasma 颜色映射, 也可以使用其他颜色映射\n",
    "color_map = {category: matplotlib.colors.to_hex(color) for category, color in zip(categories, colors)}\n",
    "\n",
    "# 添加 GeoJSON 图层到地图，根据分类变量自动分配颜色\n",
    "folium.GeoJson(\n",
    "    data,\n",
    "    name='geojson',\n",
    "    style_function=lambda feature: {\n",
    "        'fillColor': matplotlib.colors.to_hex(color_map[feature['properties']['BOROUGH']]),\n",
    "        'color': 'black',  # 边界颜色\n",
    "        'weight': 2,\n",
    "        'fillOpacity': 0.5\n",
    "    }\n",
    ").add_to(m)\n",
    "\n",
    "\n",
    "# 添加图层控制器\n",
    "folium.LayerControl().add_to(m)\n",
    "\n",
    "\n",
    "#------------------------------------------\n",
    "# 在Jupyter Notebook中直接显示地图\n",
    "#m\n",
    "# 保存为html文件\n",
    "m.save('../Data/Transport/Cycling/cycling_map.html')"
   ]
  },
  {
   "cell_type": "markdown",
   "metadata": {},
   "source": [
    "## Air Monitoring Sites"
   ]
  },
  {
   "cell_type": "code",
   "execution_count": 48,
   "metadata": {},
   "outputs": [],
   "source": [
    "import geopandas as gpd\n",
    "import pandas as pd\n",
    "import numpy as np\n",
    "from shapely.geometry import Point"
   ]
  },
  {
   "cell_type": "code",
   "execution_count": 49,
   "metadata": {},
   "outputs": [],
   "source": [
    "df = pd.read_csv(\"../Data/AirQuality/AQ_Sites.csv\")"
   ]
  },
  {
   "cell_type": "code",
   "execution_count": 50,
   "metadata": {},
   "outputs": [],
   "source": [
    "\n",
    "df = df[df['Latitude']!=0]\n",
    "df = df[df['Longitude']!=0]"
   ]
  },
  {
   "cell_type": "code",
   "execution_count": 51,
   "metadata": {},
   "outputs": [],
   "source": [
    "df_opening = df[df['DateClosed'].isnull()]"
   ]
  },
  {
   "cell_type": "code",
   "execution_count": 52,
   "metadata": {},
   "outputs": [
    {
     "data": {
      "text/html": [
       "<div>\n",
       "<style scoped>\n",
       "    .dataframe tbody tr th:only-of-type {\n",
       "        vertical-align: middle;\n",
       "    }\n",
       "\n",
       "    .dataframe tbody tr th {\n",
       "        vertical-align: top;\n",
       "    }\n",
       "\n",
       "    .dataframe thead th {\n",
       "        text-align: right;\n",
       "    }\n",
       "</style>\n",
       "<table border=\"1\" class=\"dataframe\">\n",
       "  <thead>\n",
       "    <tr style=\"text-align: right;\">\n",
       "      <th></th>\n",
       "      <th>LocalAuthorityCode</th>\n",
       "      <th>LocalAuthorityName</th>\n",
       "      <th>SiteCode</th>\n",
       "      <th>SiteName</th>\n",
       "      <th>SiteType</th>\n",
       "      <th>DateOpened</th>\n",
       "      <th>DateClosed</th>\n",
       "      <th>Latitude</th>\n",
       "      <th>Longitude</th>\n",
       "    </tr>\n",
       "  </thead>\n",
       "  <tbody>\n",
       "    <tr>\n",
       "      <th>203</th>\n",
       "      <td>29</td>\n",
       "      <td>Sutton</td>\n",
       "      <td>ST9</td>\n",
       "      <td>Sutton - Beddington Village</td>\n",
       "      <td>Roadside</td>\n",
       "      <td>2020-10-16 00:00:00</td>\n",
       "      <td>NaN</td>\n",
       "      <td>51.371201</td>\n",
       "      <td>-0.131949</td>\n",
       "    </tr>\n",
       "    <tr>\n",
       "      <th>172</th>\n",
       "      <td>24</td>\n",
       "      <td>Merton</td>\n",
       "      <td>ME7</td>\n",
       "      <td>Merton - Willow Lane Industrial Estate</td>\n",
       "      <td>Industrial</td>\n",
       "      <td>2015-08-05 00:00:00</td>\n",
       "      <td>2016-04-01 00:00:00</td>\n",
       "      <td>51.394342</td>\n",
       "      <td>-0.165161</td>\n",
       "    </tr>\n",
       "    <tr>\n",
       "      <th>22</th>\n",
       "      <td>3</td>\n",
       "      <td>Bexley</td>\n",
       "      <td>BQ3</td>\n",
       "      <td>Bexley 8 - Traffic(E fast)</td>\n",
       "      <td>Kerbside</td>\n",
       "      <td>2007-08-14 00:00:00</td>\n",
       "      <td>2010-04-13 00:00:00</td>\n",
       "      <td>51.456855</td>\n",
       "      <td>0.194546</td>\n",
       "    </tr>\n",
       "    <tr>\n",
       "      <th>188</th>\n",
       "      <td>27</td>\n",
       "      <td>Richmond</td>\n",
       "      <td>RI1</td>\n",
       "      <td>Richmond Upon Thames - Castelnau</td>\n",
       "      <td>Roadside</td>\n",
       "      <td>2000-06-14 00:15:00</td>\n",
       "      <td>NaN</td>\n",
       "      <td>51.480189</td>\n",
       "      <td>-0.237335</td>\n",
       "    </tr>\n",
       "    <tr>\n",
       "      <th>102</th>\n",
       "      <td>13</td>\n",
       "      <td>Hammersmith and Fulham</td>\n",
       "      <td>HF1</td>\n",
       "      <td>Hammersmith and Fulham - Broadway</td>\n",
       "      <td>Roadside</td>\n",
       "      <td>1999-08-23 18:15:00</td>\n",
       "      <td>2009-01-20 00:00:00</td>\n",
       "      <td>51.492766</td>\n",
       "      <td>-0.223601</td>\n",
       "    </tr>\n",
       "    <tr>\n",
       "      <th>229</th>\n",
       "      <td>32</td>\n",
       "      <td>Wandsworth</td>\n",
       "      <td>WA3</td>\n",
       "      <td>Wandsworth - Roehampton</td>\n",
       "      <td>Rural</td>\n",
       "      <td>1994-10-31 00:00:00</td>\n",
       "      <td>2000-11-24 13:45:00</td>\n",
       "      <td>51.456920</td>\n",
       "      <td>-0.245562</td>\n",
       "    </tr>\n",
       "    <tr>\n",
       "      <th>57</th>\n",
       "      <td>8</td>\n",
       "      <td>Croydon</td>\n",
       "      <td>CR8</td>\n",
       "      <td>Croydon - Norbury Manor</td>\n",
       "      <td>Urban Background</td>\n",
       "      <td>2014-12-01 00:00:00</td>\n",
       "      <td>NaN</td>\n",
       "      <td>51.410039</td>\n",
       "      <td>-0.127523</td>\n",
       "    </tr>\n",
       "  </tbody>\n",
       "</table>\n",
       "</div>"
      ],
      "text/plain": [
       "     LocalAuthorityCode      LocalAuthorityName SiteCode  \\\n",
       "203                  29                  Sutton      ST9   \n",
       "172                  24                  Merton      ME7   \n",
       "22                    3                  Bexley      BQ3   \n",
       "188                  27                Richmond      RI1   \n",
       "102                  13  Hammersmith and Fulham      HF1   \n",
       "229                  32              Wandsworth      WA3   \n",
       "57                    8                 Croydon      CR8   \n",
       "\n",
       "                                   SiteName          SiteType  \\\n",
       "203             Sutton - Beddington Village          Roadside   \n",
       "172  Merton - Willow Lane Industrial Estate        Industrial   \n",
       "22               Bexley 8 - Traffic(E fast)          Kerbside   \n",
       "188        Richmond Upon Thames - Castelnau          Roadside   \n",
       "102       Hammersmith and Fulham - Broadway          Roadside   \n",
       "229                 Wandsworth - Roehampton             Rural   \n",
       "57                  Croydon - Norbury Manor  Urban Background   \n",
       "\n",
       "              DateOpened           DateClosed   Latitude  Longitude  \n",
       "203  2020-10-16 00:00:00                  NaN  51.371201  -0.131949  \n",
       "172  2015-08-05 00:00:00  2016-04-01 00:00:00  51.394342  -0.165161  \n",
       "22   2007-08-14 00:00:00  2010-04-13 00:00:00  51.456855   0.194546  \n",
       "188  2000-06-14 00:15:00                  NaN  51.480189  -0.237335  \n",
       "102  1999-08-23 18:15:00  2009-01-20 00:00:00  51.492766  -0.223601  \n",
       "229  1994-10-31 00:00:00  2000-11-24 13:45:00  51.456920  -0.245562  \n",
       "57   2014-12-01 00:00:00                  NaN  51.410039  -0.127523  "
      ]
     },
     "execution_count": 52,
     "metadata": {},
     "output_type": "execute_result"
    }
   ],
   "source": [
    "df_opening.sample(7)"
   ]
  },
  {
   "cell_type": "code",
   "execution_count": 55,
   "metadata": {},
   "outputs": [],
   "source": [
    "geometry = [Point(xy) for xy in zip(df_opening['Longitude'], df_opening['Latitude'])]\n",
    "\n",
    "# 创建GeoDataFrame\n",
    "gdf = gpd.GeoDataFrame(df_opening, geometry=geometry)"
   ]
  },
  {
   "cell_type": "code",
   "execution_count": 56,
   "metadata": {},
   "outputs": [
    {
     "data": {
      "text/plain": [
       "2       POINT (0.17789 51.56375)\n",
       "3       POINT (0.13286 51.52939)\n",
       "8       POINT (0.15891 51.49061)\n",
       "10      POINT (0.13728 51.49465)\n",
       "15      POINT (0.18488 51.46598)\n",
       "                 ...            \n",
       "238    POINT (-0.12163 51.51198)\n",
       "241    POINT (-0.14711 51.49225)\n",
       "242    POINT (-0.13194 51.49468)\n",
       "243    POINT (-0.15459 51.52254)\n",
       "245    POINT (-0.15279 51.51393)\n",
       "Name: geometry, Length: 101, dtype: geometry"
      ]
     },
     "execution_count": 56,
     "metadata": {},
     "output_type": "execute_result"
    }
   ],
   "source": [
    "gdf['geometry']"
   ]
  },
  {
   "cell_type": "code",
   "execution_count": 57,
   "metadata": {},
   "outputs": [],
   "source": [
    "import folium"
   ]
  },
  {
   "cell_type": "code",
   "execution_count": 59,
   "metadata": {},
   "outputs": [],
   "source": [
    "# 设置坐标参考系统(CRS)为英国国家网格参考系统 (EPSG:27700)，并转换为WGS84 (EPSG:4326)\n",
    "gdf.crs = 'epsg:4326'\n",
    "gdf = gdf.to_crs(epsg=4326)\n",
    "\n",
    "# 创建 folium 地图对象\n",
    "m = folium.Map(\n",
    "    location=[gdf.geometry.y.mean(), gdf.geometry.x.mean()], # 设置地图的中心点\n",
    "    zoom_start=10 # 初始缩放级别\n",
    ")\n",
    "\n",
    "# 在地图上添加点，同时检查几何对象是否为空\n",
    "for _, row in gdf.iterrows():\n",
    "    if row.geometry is not None and not row.geometry.is_empty:\n",
    "        # 使用内置的图标\n",
    "        icon = folium.Icon(\n",
    "            icon='glyphicon glyphicon-map-marker',  # 使用内置的glyphicon图标，例如地图标记\n",
    "            prefix='glyphicon',  # 指定图标集，这里使用Bootstrap的glyphicon\n",
    "            color='red',  # 指定图标颜色\n",
    "        )\n",
    "        folium.Marker(\n",
    "            location=[row.geometry.y, row.geometry.x],\n",
    "            icon=icon,\n",
    "            popup=str(row['SiteCode'])  # 假设每个点有一个 'SiteCode' 列作为标识，并确保将其转换为字符串\n",
    "        ).add_to(m)\n",
    "\n",
    "# 添加图层切换控件\n",
    "folium.LayerControl().add_to(m)\n",
    "\n",
    "\n",
    "m.save('../Data/AirQuality/SitesOpening.html')"
   ]
  }
 ],
 "metadata": {
  "kernelspec": {
   "display_name": "base",
   "language": "python",
   "name": "python3"
  },
  "language_info": {
   "codemirror_mode": {
    "name": "ipython",
    "version": 3
   },
   "file_extension": ".py",
   "mimetype": "text/x-python",
   "name": "python",
   "nbconvert_exporter": "python",
   "pygments_lexer": "ipython3",
   "version": "3.11.5"
  }
 },
 "nbformat": 4,
 "nbformat_minor": 2
}
